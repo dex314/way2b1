{
 "cells": [
  {
   "cell_type": "markdown",
   "metadata": {},
   "source": [
    "## Info\n",
    "\n",
    "This is a notebook for a take home project from Way2B1.\n",
    "\n",
    "The specifications for the assigment are:\n",
    "\n",
    "Way2B1: Machine Learning Take Home Exercise\n",
    "Project: Start benefiting from having too much email (or analyze your email inbox). Goal is to\n",
    "connect to your email, apply a ML technique and produce a useful insight. This is very open\n",
    "ended, so reach out for clarification if that’s overwhelming. Expected time commitment: 4-6\n",
    "hours, but if useful to your portfolio then longer. If short on time, then you can write up how\n",
    "you plan to approach each step of the project.\n",
    "\n",
    "**Details:**\n",
    "\n",
    "    ● Open a gmail account if you don’t already have one that you can use ( you can use any\n",
    "    email provider that has an API, if you don’t want to use gmail)\n",
    "    ○ If a new account, then you’ll need to figure out how to get some email into via\n",
    "    some subscriptions, or sending test messages. Maybe forward non-sensitive, yet\n",
    "    substantive (non-spam) messages from your primary email account\n",
    "\n",
    "    ● Connect to Gmail’s API (https://developers.google.com/gmail/api/quickstart/python)\n",
    "\n",
    "    ● Model: Choose a model or framework that you think will be useful in producing an insight\n",
    "    related to your emails\n",
    "\n",
    "    ● Algorithm: Select an algorithm that can be used to produce an insight or prediction from\n",
    "    your emails. Spam detection is the canonical email analysis use case, you’re welcome to\n",
    "    do it, but we’d prefer to see something else, like needs a reply, has an important event,\n",
    "    or classifying emails into meaningful categories. It’s up to you and creativity is great.\n",
    "\n",
    "    ● Features (if applicable): Identify useful features from each email (example: sender,\n",
    "    sender domain, has attachments, keywords of email message etc). You don’t need to\n",
    "    identify every possible feature, just some interesting ones that will support your\n",
    "    insights.\n",
    "\n",
    "    ● Data (sets depend on approach): Select a certain set of emails as your training set, a\n",
    "    certain set as a validation set (optional), and a certain set as a test set (or just any\n",
    "    arbitrary new email). You can probably use gmail labels to achieve this, but use whatever\n",
    "    method is easiest for you.\n",
    "    \n",
    "**Languages: Python or JS, also you’re welcome to use any ML platform or infrastructure that you’re comfortable with**\n",
    "\n",
    "**Submission:**\n",
    "\n",
    "    ● Share a Github or Gitlab repo containing the code from the take-home\n",
    "\n",
    "    ● README summarizing your approach and findings\n",
    "\n",
    "    ● You’re free to use this code for any other purpose that you see fit outside of the take home evaluation \n",
    "\n",
    "**Evaluation:**\n",
    "\n",
    "    ● Quality of implementation of algorithm\n",
    "\n",
    "    ● Understandable explanation in README\n",
    "\n",
    "    ● Legible, well designed code\n",
    "\n",
    "    ● We’ll discuss the takehome in subsequent interviews."
   ]
  },
  {
   "cell_type": "markdown",
   "metadata": {},
   "source": [
    "**As an aside, this is something I have been meaning to play around with for some time.**"
   ]
  },
  {
   "cell_type": "code",
   "execution_count": 1,
   "metadata": {},
   "outputs": [],
   "source": [
    "import pandas as pd\n",
    "import numpy as np\n",
    "import matplotlib.pyplot as plt\n",
    "%matplotlib inline\n",
    "import seaborn as sns\n",
    "import scipy as sp\n",
    "import time\n",
    "import os"
   ]
  },
  {
   "cell_type": "code",
   "execution_count": 2,
   "metadata": {},
   "outputs": [],
   "source": [
    "## google imports\n",
    "\n",
    "from __future__ import print_function\n",
    "import os.path\n",
    "\n",
    "from google.auth.transport.requests import Request\n",
    "from google.oauth2.credentials import Credentials\n",
    "from google_auth_oauthlib.flow import InstalledAppFlow\n",
    "from googleapiclient.discovery import build\n",
    "from googleapiclient.errors import HttpError"
   ]
  },
  {
   "cell_type": "code",
   "execution_count": 3,
   "metadata": {},
   "outputs": [],
   "source": [
    "def googletest(ret='labels'):\n",
    "    # If modifying these scopes, delete the file token.json.\n",
    "    SCOPES = ['https://www.googleapis.com/auth/gmail.readonly']\n",
    "\n",
    "    creds = None\n",
    "    # The file token.json stores the user's access and refresh tokens, and is\n",
    "    # created automatically when the authorization flow completes for the first\n",
    "    # time.\n",
    "    if os.path.exists('token.json'):\n",
    "        creds = Credentials.from_authorized_user_file('token.json', SCOPES)\n",
    "    # If there are no (valid) credentials available, let the user log in.\n",
    "    if not creds or not creds.valid:\n",
    "        if creds and creds.expired and creds.refresh_token:\n",
    "            creds.refresh(Request())\n",
    "        else:\n",
    "            flow = InstalledAppFlow.from_client_secrets_file(\n",
    "                'credentials.json', SCOPES)\n",
    "            creds = flow.run_local_server(port=0)\n",
    "        # Save the credentials for the next run\n",
    "        with open('token.json', 'w') as token:\n",
    "            token.write(creds.to_json())\n",
    "\n",
    "    try:\n",
    "        # Call the Gmail API\n",
    "        service = build('gmail', 'v1', credentials=creds)\n",
    "        \n",
    "        if ret == 'labels':\n",
    "            results = service.users().labels().list(userId='me').execute()\n",
    "            labels = results.get('labels', [])\n",
    "            \n",
    "            if not labels:\n",
    "                print('No labels found.')\n",
    "                return\n",
    "            print('Labels:')\n",
    "            for label in labels:\n",
    "                print(label['name'])\n",
    "        \n",
    "        else:\n",
    "            results = service.users().messages().list(maxResults=200, userId='me').execute()\n",
    "            messages = results.get('messages')\n",
    "\n",
    "            if not messages:\n",
    "                print('No messages found.')\n",
    "                return\n",
    "            \n",
    "            message_list = []\n",
    "            for msg in messages:\n",
    "                # Get the message from its id\n",
    "                txt = service.users().messages().get(userId='me', id=msg['id']).execute()\n",
    "\n",
    "                # Use try-except to avoid any Errors\n",
    "                try:\n",
    "                    # Get value of 'payload' from dictionary 'txt'\n",
    "                    payload = txt['payload']\n",
    "                    headers = payload['headers']\n",
    "                    message_list.append([payload, headers])\n",
    "                except:\n",
    "                    pass\n",
    "\n",
    "    except HttpError as error:\n",
    "        # TODO(developer) - Handle errors from gmail API.\n",
    "        print(f'An error occurred: {error}')"
   ]
  },
  {
   "cell_type": "code",
   "execution_count": 4,
   "metadata": {},
   "outputs": [],
   "source": [
    "googletest(ret='msg')"
   ]
  },
  {
   "cell_type": "code",
   "execution_count": 5,
   "metadata": {},
   "outputs": [],
   "source": [
    "import quickstart"
   ]
  },
  {
   "cell_type": "code",
   "execution_count": 6,
   "metadata": {},
   "outputs": [
    {
     "name": "stdout",
     "output_type": "stream",
     "text": [
      "Labels:\n",
      "CHAT\n",
      "SENT\n",
      "INBOX\n",
      "IMPORTANT\n",
      "TRASH\n",
      "DRAFT\n",
      "SPAM\n",
      "CATEGORY_FORUMS\n",
      "CATEGORY_UPDATES\n",
      "CATEGORY_PERSONAL\n",
      "CATEGORY_PROMOTIONS\n",
      "CATEGORY_SOCIAL\n",
      "STARRED\n",
      "UNREAD\n",
      "Personal\n",
      "Receipts\n",
      "Work\n",
      "Notes\n",
      "Daily Coding Problems\n",
      "Stuff for Later!\n"
     ]
    }
   ],
   "source": [
    "quickstart.main()"
   ]
  },
  {
   "cell_type": "markdown",
   "metadata": {},
   "source": [
    "**lets run through this manually**"
   ]
  },
  {
   "cell_type": "code",
   "execution_count": 106,
   "metadata": {},
   "outputs": [],
   "source": [
    "SCOPES = ['https://www.googleapis.com/auth/gmail.readonly']\n",
    "creds = Credentials.from_authorized_user_file('token.json', SCOPES)\n",
    "service = build('gmail', 'v1', credentials=creds)"
   ]
  },
  {
   "cell_type": "code",
   "execution_count": 107,
   "metadata": {},
   "outputs": [],
   "source": [
    "# help(service.users().messages().list)\n",
    "## the max is 500 it turns out"
   ]
  },
  {
   "cell_type": "code",
   "execution_count": 108,
   "metadata": {},
   "outputs": [
    {
     "data": {
      "text/plain": [
       "'13247078207197137520'"
      ]
     },
     "execution_count": 108,
     "metadata": {},
     "output_type": "execute_result"
    }
   ],
   "source": [
    "results.get(\"nextPageToken\")"
   ]
  },
  {
   "cell_type": "code",
   "execution_count": 109,
   "metadata": {},
   "outputs": [],
   "source": [
    "from bs4 import BeautifulSoup\n",
    "import base64\n",
    "import email"
   ]
  },
  {
   "cell_type": "code",
   "execution_count": 304,
   "metadata": {},
   "outputs": [],
   "source": [
    "# def check_next_page_token(results):\n",
    "#     npt = results.get(\"nextPageToken\")\n",
    "#     if npt:\n",
    "#         results = service.users().messages().list(maxResults=n, userId='me', pageToken=npt).execute()\n",
    "#         return results"
   ]
  },
  {
   "cell_type": "code",
   "execution_count": 308,
   "metadata": {},
   "outputs": [],
   "source": [
    "def initial_gmail_sync(service, iters=10):\n",
    "    pageToken = None\n",
    "    messages_left = True\n",
    "\n",
    "    all_msgs = []\n",
    "    # Get messages\n",
    "    while (messages_left) and (iters > 0):\n",
    "        messages = service.users().messages().list(userId=\"me\", pageToken=pageToken).execute()\n",
    "        pageToken = messages.get('nextPageToken')\n",
    "        # do something with the messages! Importing them to your database for example\n",
    "        for message in messages:\n",
    "#             email_id = message['id']\n",
    "            dirty_message = service.users().messages().get(userId=\"me\", id=message['id'], format='metadata').execute()\n",
    "            clean_message = extract_data(dirty_message)\n",
    "            # and now you can do what you want\n",
    "            # clean_message contains 'from', 'subject', 'to', 'date', 'id' and 'history_id'\n",
    "            all_msgs.append(clean_message)\n",
    "        iters -= 1\n",
    "        if not pageToken:\n",
    "            messages_left = False\n",
    "            # you've reached the end of the inbox!\n",
    "    \n",
    "    return all_msgs"
   ]
  },
  {
   "cell_type": "code",
   "execution_count": 309,
   "metadata": {},
   "outputs": [],
   "source": [
    "def get_results(n_results=500, pageToken=None):\n",
    "    ''' Gets Results\n",
    "        Params:\n",
    "        n_results = number of results to fetch\n",
    "            (max is 500 for display)\n",
    "        pageToken = to get next list of results from previous pull of 500\n",
    "        Returns:\n",
    "        results\n",
    "    '''\n",
    "    ## these are alredy confirmed to exist so skipping the check here\n",
    "    SCOPES = ['https://www.googleapis.com/auth/gmail.readonly']\n",
    "    creds = Credentials.from_authorized_user_file('token.json', SCOPES)\n",
    "    service = build('gmail', 'v1', credentials=creds)\n",
    "    \n",
    "    results = initial_gmail_sync(service, iters=5)\n",
    "    \n",
    "#     ## maxes out at 500 so set it and forget it\n",
    "#     if pageToken:\n",
    "#         results = service.users().messages().list(maxResults=n_results, userId='me', pageToken=pageToken).execute()\n",
    "#     else:\n",
    "#         results = service.users().messages().list(maxResults=n_results, userId='me').execute()\n",
    "    return results"
   ]
  },
  {
   "cell_type": "code",
   "execution_count": 310,
   "metadata": {},
   "outputs": [],
   "source": [
    "def get_subject_and_body(results):\n",
    "    ''' Function to pull in subject and body from messages.\n",
    "        Params:\n",
    "        results = results from pull\n",
    "        Returns:\n",
    "        List of Message Subject and Body\n",
    "    '''   \n",
    "    messages = results.get('messages')\n",
    "    all_msgs = []\n",
    "    start_time = time.time()\n",
    "    for msg in messages:\n",
    "        # Get the message from its id\n",
    "        txt = service.users().messages().get(userId='me', id=msg['id'],\n",
    "                                             format=\"full\", metadataHeaders=None).execute()    \n",
    "        payload = txt['payload']\n",
    "        headers = payload['headers']\n",
    "        snippet = txt['snippet']\n",
    "\n",
    "        # Look for Subject and Sender Email in the headers\n",
    "        for d in headers:\n",
    "            if d['name'] == 'Subject':\n",
    "                subject = d['value']\n",
    "            if d['name'] == 'From':\n",
    "                sender = d['value']\n",
    "            \n",
    "        if not subject:\n",
    "            subject = None\n",
    "        if not sender:\n",
    "            sender = None\n",
    "        \n",
    "        try:\n",
    "            parts = payload.get('parts')[0]\n",
    "            data = parts['body']['data']\n",
    "            data = data.replace(\"-\",\"+\").replace(\"_\",\"/\")\n",
    "            decoded_data = base64.b64decode(data)\n",
    "            soup = BeautifulSoup(decoded_data , \"lxml\")\n",
    "            body = soup.body()     \n",
    "        except:\n",
    "            body = None\n",
    "\n",
    "        all_msgs.append([subject, body, sender, snippet])\n",
    "\n",
    "    print(f\"time to complete = {(time.time() - start_time)/60 :.3f} mins\")\n",
    "        \n",
    "    return all_msgs"
   ]
  },
  {
   "cell_type": "markdown",
   "metadata": {},
   "source": [
    "- https://stackoverflow.com/questions/43269704/gmail-api-getting-all-gmail-inbox-messages-limits-to-500"
   ]
  },
  {
   "cell_type": "code",
   "execution_count": 263,
   "metadata": {},
   "outputs": [],
   "source": [
    "# res1 = get_results(1000)\n",
    "# msg1 = get_subject_and_body(res1)"
   ]
  },
  {
   "cell_type": "code",
   "execution_count": 264,
   "metadata": {},
   "outputs": [],
   "source": [
    "# res1.get(\"resultSizeEstimate\")"
   ]
  },
  {
   "cell_type": "code",
   "execution_count": 265,
   "metadata": {},
   "outputs": [],
   "source": [
    "num_msgs_to_retrieve = 1500\n",
    "\n",
    "all_res = []\n",
    "# ## 500 max limit\n",
    "# res_tmp = get_results(num_msgs_to_retrieve)\n",
    "# all_res.append(res_tmp)\n",
    "# itr = 0\n",
    "# while (res_tmp.get(\"nextPageToken\")) and (itr<10):\n",
    "#     itr += 1\n",
    "#     res_tmp = get_results(num_msgs_to_retrieve)\n",
    "#     all_res.append(res_tmp)\n",
    "\n",
    "pageToken = None\n",
    "messages_left = True\n",
    "iters = 3\n",
    "while (messages_left) and (iters > 0):\n",
    "    messages = service.users().messages().list(userId=\"me\", pageToken=pageToken).execute()\n",
    "    pageToken = messages.get('nextPageToken')\n",
    "    # do something with the messages! Importing them to your database for example\n",
    "    for message in messages:\n",
    "#             email_id = message['id']\n",
    "        dirty_message = service.users().messages().get(userId=\"me\", id=message['id'], format='metadata').execute()\n",
    "        clean_message = extract_data(dirty_message)\n",
    "        # and now you can do what you want\n",
    "        # clean_message contains 'from', 'subject', 'to', 'date', 'id' and 'history_id'\n",
    "        all_msgs.append(clean_message)\n",
    "    iters -= 1\n",
    "    if not pageToken:\n",
    "        messages_left = False"
   ]
  },
  {
   "cell_type": "code",
   "execution_count": null,
   "metadata": {},
   "outputs": [],
   "source": []
  },
  {
   "cell_type": "code",
   "execution_count": 311,
   "metadata": {},
   "outputs": [
    {
     "ename": "TypeError",
     "evalue": "string indices must be integers",
     "output_type": "error",
     "traceback": [
      "\u001b[1;31m---------------------------------------------------------------------------\u001b[0m",
      "\u001b[1;31mTypeError\u001b[0m                                 Traceback (most recent call last)",
      "\u001b[1;32m<ipython-input-311-41bb5c829c7f>\u001b[0m in \u001b[0;36m<module>\u001b[1;34m\u001b[0m\n\u001b[1;32m----> 1\u001b[1;33m \u001b[0mall_res\u001b[0m \u001b[1;33m=\u001b[0m \u001b[0mget_results\u001b[0m\u001b[1;33m(\u001b[0m\u001b[1;36m500\u001b[0m\u001b[1;33m)\u001b[0m\u001b[1;33m\u001b[0m\u001b[1;33m\u001b[0m\u001b[0m\n\u001b[0m",
      "\u001b[1;32m<ipython-input-309-223a02659710>\u001b[0m in \u001b[0;36mget_results\u001b[1;34m(n_results, pageToken)\u001b[0m\n\u001b[0;32m     13\u001b[0m     \u001b[0mservice\u001b[0m \u001b[1;33m=\u001b[0m \u001b[0mbuild\u001b[0m\u001b[1;33m(\u001b[0m\u001b[1;34m'gmail'\u001b[0m\u001b[1;33m,\u001b[0m \u001b[1;34m'v1'\u001b[0m\u001b[1;33m,\u001b[0m \u001b[0mcredentials\u001b[0m\u001b[1;33m=\u001b[0m\u001b[0mcreds\u001b[0m\u001b[1;33m)\u001b[0m\u001b[1;33m\u001b[0m\u001b[1;33m\u001b[0m\u001b[0m\n\u001b[0;32m     14\u001b[0m \u001b[1;33m\u001b[0m\u001b[0m\n\u001b[1;32m---> 15\u001b[1;33m     \u001b[0mresults\u001b[0m \u001b[1;33m=\u001b[0m \u001b[0minitial_gmail_sync\u001b[0m\u001b[1;33m(\u001b[0m\u001b[0mservice\u001b[0m\u001b[1;33m,\u001b[0m \u001b[0miters\u001b[0m\u001b[1;33m=\u001b[0m\u001b[1;36m5\u001b[0m\u001b[1;33m)\u001b[0m\u001b[1;33m\u001b[0m\u001b[1;33m\u001b[0m\u001b[0m\n\u001b[0m\u001b[0;32m     16\u001b[0m \u001b[1;33m\u001b[0m\u001b[0m\n\u001b[0;32m     17\u001b[0m \u001b[1;31m#     ## maxes out at 500 so set it and forget it\u001b[0m\u001b[1;33m\u001b[0m\u001b[1;33m\u001b[0m\u001b[1;33m\u001b[0m\u001b[0m\n",
      "\u001b[1;32m<ipython-input-308-62f7ee11c2aa>\u001b[0m in \u001b[0;36minitial_gmail_sync\u001b[1;34m(service, iters)\u001b[0m\n\u001b[0;32m     11\u001b[0m         \u001b[1;32mfor\u001b[0m \u001b[0mmessage\u001b[0m \u001b[1;32min\u001b[0m \u001b[0mmessages\u001b[0m\u001b[1;33m:\u001b[0m\u001b[1;33m\u001b[0m\u001b[1;33m\u001b[0m\u001b[0m\n\u001b[0;32m     12\u001b[0m \u001b[1;31m#             email_id = message['id']\u001b[0m\u001b[1;33m\u001b[0m\u001b[1;33m\u001b[0m\u001b[1;33m\u001b[0m\u001b[0m\n\u001b[1;32m---> 13\u001b[1;33m             \u001b[0mdirty_message\u001b[0m \u001b[1;33m=\u001b[0m \u001b[0mservice\u001b[0m\u001b[1;33m.\u001b[0m\u001b[0musers\u001b[0m\u001b[1;33m(\u001b[0m\u001b[1;33m)\u001b[0m\u001b[1;33m.\u001b[0m\u001b[0mmessages\u001b[0m\u001b[1;33m(\u001b[0m\u001b[1;33m)\u001b[0m\u001b[1;33m.\u001b[0m\u001b[0mget\u001b[0m\u001b[1;33m(\u001b[0m\u001b[0muserId\u001b[0m\u001b[1;33m=\u001b[0m\u001b[1;34m\"me\"\u001b[0m\u001b[1;33m,\u001b[0m \u001b[0mid\u001b[0m\u001b[1;33m=\u001b[0m\u001b[0mmessage\u001b[0m\u001b[1;33m[\u001b[0m\u001b[1;34m'id'\u001b[0m\u001b[1;33m]\u001b[0m\u001b[1;33m,\u001b[0m \u001b[0mformat\u001b[0m\u001b[1;33m=\u001b[0m\u001b[1;34m'metadata'\u001b[0m\u001b[1;33m)\u001b[0m\u001b[1;33m.\u001b[0m\u001b[0mexecute\u001b[0m\u001b[1;33m(\u001b[0m\u001b[1;33m)\u001b[0m\u001b[1;33m\u001b[0m\u001b[1;33m\u001b[0m\u001b[0m\n\u001b[0m\u001b[0;32m     14\u001b[0m             \u001b[0mclean_message\u001b[0m \u001b[1;33m=\u001b[0m \u001b[0mextract_data\u001b[0m\u001b[1;33m(\u001b[0m\u001b[0mdirty_message\u001b[0m\u001b[1;33m)\u001b[0m\u001b[1;33m\u001b[0m\u001b[1;33m\u001b[0m\u001b[0m\n\u001b[0;32m     15\u001b[0m             \u001b[1;31m# and now you can do what you want\u001b[0m\u001b[1;33m\u001b[0m\u001b[1;33m\u001b[0m\u001b[1;33m\u001b[0m\u001b[0m\n",
      "\u001b[1;31mTypeError\u001b[0m: string indices must be integers"
     ]
    }
   ],
   "source": [
    "all_res = get_results(500)"
   ]
  },
  {
   "cell_type": "code",
   "execution_count": null,
   "metadata": {},
   "outputs": [],
   "source": []
  },
  {
   "cell_type": "code",
   "execution_count": 266,
   "metadata": {},
   "outputs": [
    {
     "data": {
      "text/plain": [
       "11"
      ]
     },
     "execution_count": 266,
     "metadata": {},
     "output_type": "execute_result"
    }
   ],
   "source": [
    "len(all_res)"
   ]
  },
  {
   "cell_type": "code",
   "execution_count": 267,
   "metadata": {},
   "outputs": [
    {
     "data": {
      "text/plain": [
       "'18215689330561977979'"
      ]
     },
     "execution_count": 267,
     "metadata": {},
     "output_type": "execute_result"
    }
   ],
   "source": [
    "all_res[-1].get(\"nextPageToken\")"
   ]
  },
  {
   "cell_type": "code",
   "execution_count": 268,
   "metadata": {},
   "outputs": [],
   "source": [
    "# num_msgs_to_retrieve = 3000\n",
    "\n",
    "# all_res = []\n",
    "# ## 500 max limit\n",
    "# for i in range(int(num_msgs_to_retrieve/500)):\n",
    "#     res_tmp = get_results(num_msgs_to_retrieve)\n",
    "#     all_res.append(res_tmp)\n",
    "#     if res_tmp.get(\"nextPageToken\"):\n",
    "#             res_tmp = service.users().messages().list(userId='me', \n",
    "#                                                       pageToken=res_tmp.get(\"nextPageToken\")).execute()   \n",
    "#             all_res.append(res_tmp)"
   ]
  },
  {
   "cell_type": "code",
   "execution_count": 269,
   "metadata": {},
   "outputs": [
    {
     "name": "stderr",
     "output_type": "stream",
     "text": [
      "C:\\Users\\bills\\Anaconda3\\lib\\site-packages\\bs4\\__init__.py:389: UserWarning: \"https://www.thingiverse.com/thing:2662731\n",
      "\n",
      "Bill\n",
      "\" looks like a URL. Beautiful Soup is not an HTTP client. You should probably use an HTTP client like requests to get the document behind the URL, and feed that document to Beautiful Soup.\n",
      "  ' that document to Beautiful Soup.' % decoded_markup\n",
      "C:\\Users\\bills\\Anaconda3\\lib\\site-packages\\bs4\\__init__.py:389: UserWarning: \"https://www.thingiverse.com/thing:3474374\n",
      "\" looks like a URL. Beautiful Soup is not an HTTP client. You should probably use an HTTP client like requests to get the document behind the URL, and feed that document to Beautiful Soup.\n",
      "  ' that document to Beautiful Soup.' % decoded_markup\n",
      "C:\\Users\\bills\\Anaconda3\\lib\\site-packages\\bs4\\__init__.py:389: UserWarning: \"https://www.thingiverse.com/thing:3226136\n",
      "\" looks like a URL. Beautiful Soup is not an HTTP client. You should probably use an HTTP client like requests to get the document behind the URL, and feed that document to Beautiful Soup.\n",
      "  ' that document to Beautiful Soup.' % decoded_markup\n",
      "C:\\Users\\bills\\Anaconda3\\lib\\site-packages\\bs4\\__init__.py:389: UserWarning: \"https://www.thingiverse.com/thing:4997903\n",
      "\" looks like a URL. Beautiful Soup is not an HTTP client. You should probably use an HTTP client like requests to get the document behind the URL, and feed that document to Beautiful Soup.\n",
      "  ' that document to Beautiful Soup.' % decoded_markup\n",
      "C:\\Users\\bills\\Anaconda3\\lib\\site-packages\\bs4\\__init__.py:389: UserWarning: \"https://www.thingiverse.com/thing:5522464\n",
      "\" looks like a URL. Beautiful Soup is not an HTTP client. You should probably use an HTTP client like requests to get the document behind the URL, and feed that document to Beautiful Soup.\n",
      "  ' that document to Beautiful Soup.' % decoded_markup\n",
      "C:\\Users\\bills\\Anaconda3\\lib\\site-packages\\bs4\\__init__.py:389: UserWarning: \"https://www.thingiverse.com/thing:42811\n",
      "\" looks like a URL. Beautiful Soup is not an HTTP client. You should probably use an HTTP client like requests to get the document behind the URL, and feed that document to Beautiful Soup.\n",
      "  ' that document to Beautiful Soup.' % decoded_markup\n"
     ]
    },
    {
     "name": "stdout",
     "output_type": "stream",
     "text": [
      "time to complete = 0.851 mins\n",
      "time to complete = 0.770 mins\n",
      "time to complete = 0.743 mins\n",
      "time to complete = 0.745 mins\n",
      "time to complete = 0.806 mins\n",
      "time to complete = 0.748 mins\n",
      "time to complete = 0.752 mins\n",
      "time to complete = 0.751 mins\n",
      "time to complete = 0.807 mins\n",
      "time to complete = 0.854 mins\n",
      "time to complete = 0.751 mins\n"
     ]
    }
   ],
   "source": [
    "all_msg = []\n",
    "for r in all_res:\n",
    "    msg_tmp = get_subject_and_body(r)\n",
    "    mdf = pd.DataFrame(msg_tmp, columns=['subject','body','sender','snippet'])\n",
    "    all_msg.append(mdf)"
   ]
  },
  {
   "cell_type": "code",
   "execution_count": 270,
   "metadata": {},
   "outputs": [
    {
     "name": "stdout",
     "output_type": "stream",
     "text": [
      "(5500, 4)\n"
     ]
    }
   ],
   "source": [
    "all_msg = pd.concat(all_msg, axis=0)\n",
    "print(all_msg.shape)"
   ]
  },
  {
   "cell_type": "code",
   "execution_count": 271,
   "metadata": {},
   "outputs": [
    {
     "data": {
      "text/html": [
       "<div>\n",
       "<style scoped>\n",
       "    .dataframe tbody tr th:only-of-type {\n",
       "        vertical-align: middle;\n",
       "    }\n",
       "\n",
       "    .dataframe tbody tr th {\n",
       "        vertical-align: top;\n",
       "    }\n",
       "\n",
       "    .dataframe thead th {\n",
       "        text-align: right;\n",
       "    }\n",
       "</style>\n",
       "<table border=\"1\" class=\"dataframe\">\n",
       "  <thead>\n",
       "    <tr style=\"text-align: right;\">\n",
       "      <th></th>\n",
       "      <th>subject</th>\n",
       "      <th>body</th>\n",
       "      <th>sender</th>\n",
       "      <th>snippet</th>\n",
       "    </tr>\n",
       "  </thead>\n",
       "  <tbody>\n",
       "    <tr>\n",
       "      <th>0</th>\n",
       "      <td>Reflecting on the final two weeks.</td>\n",
       "      <td>[[Hi Bill,\\r\\n\\r\\nIn a moment, I am going to s...</td>\n",
       "      <td>Chris Deluzio &lt;info@chrisforpa.com&gt;</td>\n",
       "      <td>Fighting for our common good alongside all of ...</td>\n",
       "    </tr>\n",
       "    <tr>\n",
       "      <th>1</th>\n",
       "      <td>Spend $500, Get $75 ENDS TONIGHT + Preview Tom...</td>\n",
       "      <td>None</td>\n",
       "      <td>Costco Wholesale &lt;Costco@online.costco.com&gt;</td>\n",
       "      <td>$150 - $300 OFF Apple iPad Pro (5th Gen), $300...</td>\n",
       "    </tr>\n",
       "    <tr>\n",
       "      <th>2</th>\n",
       "      <td>check this out…</td>\n",
       "      <td>None</td>\n",
       "      <td>Team McMullin &lt;info@evanmcmullin.com&gt;</td>\n",
       "      <td>‌ ‌ ‌ ‌ ‌ ‌ ‌ ‌ ‌ ‌ ‌ ‌ ‌ ‌ ‌ ‌ ‌ ‌ ‌ ‌ ‌ ‌ ‌ ...</td>\n",
       "    </tr>\n",
       "    <tr>\n",
       "      <th>3</th>\n",
       "      <td>TIED</td>\n",
       "      <td>[[B--\\r\\n\\r\\nBefore you go any further, I need...</td>\n",
       "      <td>Tim Ryan &lt;info@fightforprogress.org&gt;</td>\n",
       "      <td>Keep in mind, national Republicans have poured...</td>\n",
       "    </tr>\n",
       "    <tr>\n",
       "      <th>4</th>\n",
       "      <td>RSVP FOR TONIGHT: CELEBRATE DIWALI</td>\n",
       "      <td>[[https://cadem.org/ [https://cadem.org/]     ...</td>\n",
       "      <td>CADEM &lt;info@cadem.org&gt;</td>\n",
       "      <td>California Democratic Party Logo Democrats, Th...</td>\n",
       "    </tr>\n",
       "    <tr>\n",
       "      <th>5</th>\n",
       "      <td>Immunity for COVID Vax/ Almond Mistake/ Herbal...</td>\n",
       "      <td>[[   \\r\\n \\r\\nCOVID Vax Handed Permanent Immun...</td>\n",
       "      <td>ANH USA &lt;office@anh-usa.org&gt;</td>\n",
       "      <td>COVID Vax Handed Permanent Immunity &amp;amp; Fauc...</td>\n",
       "    </tr>\n",
       "    <tr>\n",
       "      <th>6</th>\n",
       "      <td>BREAKING: VoteAmerica named one of the top “Br...</td>\n",
       "      <td>None</td>\n",
       "      <td>\"Emma, VoteAmerica\" &lt;news@voteamerica.com&gt;</td>\n",
       "      <td>This year there will be a record high number o...</td>\n",
       "    </tr>\n",
       "    <tr>\n",
       "      <th>7</th>\n",
       "      <td>Bill, your  $3 contribution with early voting ...</td>\n",
       "      <td>[[[1]Tammy Duckworth\\r\\n\\r\\n   Hi, it's Mandel...</td>\n",
       "      <td>Mandela Barnes &lt;tammy@e.tammyduckworth.com&gt;</td>\n",
       "      <td>This is a pivotal moment for our campaign, and...</td>\n",
       "    </tr>\n",
       "    <tr>\n",
       "      <th>8</th>\n",
       "      <td>US Antisemitism: Inexcusable, dangerous and sp...</td>\n",
       "      <td>[[[  ]J Street [  ]\\r\\nBill --\\r\\n\\r\\n   The i...</td>\n",
       "      <td>\"Jeremy Ben-Ami, J Street\" &lt;info@jstreet.org&gt;</td>\n",
       "      <td>Bill -- The increased pervasiveness of antisem...</td>\n",
       "    </tr>\n",
       "    <tr>\n",
       "      <th>9</th>\n",
       "      <td>Save on Apple AirPods.</td>\n",
       "      <td>[[============================================...</td>\n",
       "      <td>Target &lt;targetnews@em.target.com&gt;</td>\n",
       "      <td>Want contactless shopping? Try Same Day Delive...</td>\n",
       "    </tr>\n",
       "  </tbody>\n",
       "</table>\n",
       "</div>"
      ],
      "text/plain": [
       "                                             subject  \\\n",
       "0                 Reflecting on the final two weeks.   \n",
       "1  Spend $500, Get $75 ENDS TONIGHT + Preview Tom...   \n",
       "2                                    check this out…   \n",
       "3                                               TIED   \n",
       "4                 RSVP FOR TONIGHT: CELEBRATE DIWALI   \n",
       "5  Immunity for COVID Vax/ Almond Mistake/ Herbal...   \n",
       "6  BREAKING: VoteAmerica named one of the top “Br...   \n",
       "7  Bill, your  $3 contribution with early voting ...   \n",
       "8  US Antisemitism: Inexcusable, dangerous and sp...   \n",
       "9                             Save on Apple AirPods.   \n",
       "\n",
       "                                                body  \\\n",
       "0  [[Hi Bill,\\r\\n\\r\\nIn a moment, I am going to s...   \n",
       "1                                               None   \n",
       "2                                               None   \n",
       "3  [[B--\\r\\n\\r\\nBefore you go any further, I need...   \n",
       "4  [[https://cadem.org/ [https://cadem.org/]     ...   \n",
       "5  [[   \\r\\n \\r\\nCOVID Vax Handed Permanent Immun...   \n",
       "6                                               None   \n",
       "7  [[[1]Tammy Duckworth\\r\\n\\r\\n   Hi, it's Mandel...   \n",
       "8  [[[  ]J Street [  ]\\r\\nBill --\\r\\n\\r\\n   The i...   \n",
       "9  [[============================================...   \n",
       "\n",
       "                                          sender  \\\n",
       "0            Chris Deluzio <info@chrisforpa.com>   \n",
       "1    Costco Wholesale <Costco@online.costco.com>   \n",
       "2          Team McMullin <info@evanmcmullin.com>   \n",
       "3           Tim Ryan <info@fightforprogress.org>   \n",
       "4                         CADEM <info@cadem.org>   \n",
       "5                   ANH USA <office@anh-usa.org>   \n",
       "6     \"Emma, VoteAmerica\" <news@voteamerica.com>   \n",
       "7    Mandela Barnes <tammy@e.tammyduckworth.com>   \n",
       "8  \"Jeremy Ben-Ami, J Street\" <info@jstreet.org>   \n",
       "9              Target <targetnews@em.target.com>   \n",
       "\n",
       "                                             snippet  \n",
       "0  Fighting for our common good alongside all of ...  \n",
       "1  $150 - $300 OFF Apple iPad Pro (5th Gen), $300...  \n",
       "2  ‌ ‌ ‌ ‌ ‌ ‌ ‌ ‌ ‌ ‌ ‌ ‌ ‌ ‌ ‌ ‌ ‌ ‌ ‌ ‌ ‌ ‌ ‌ ...  \n",
       "3  Keep in mind, national Republicans have poured...  \n",
       "4  California Democratic Party Logo Democrats, Th...  \n",
       "5  COVID Vax Handed Permanent Immunity &amp; Fauc...  \n",
       "6  This year there will be a record high number o...  \n",
       "7  This is a pivotal moment for our campaign, and...  \n",
       "8  Bill -- The increased pervasiveness of antisem...  \n",
       "9  Want contactless shopping? Try Same Day Delive...  "
      ]
     },
     "execution_count": 271,
     "metadata": {},
     "output_type": "execute_result"
    }
   ],
   "source": [
    "all_msg.head(10)"
   ]
  },
  {
   "cell_type": "markdown",
   "metadata": {},
   "source": [
    "**This data pull is by no means perfect, there are a lot of missing values and we could likely have worked out better ways in dealing with the errors. That in mind, we have approxiamtely 5,500 instances from one of my email addresses that we can work through.**"
   ]
  },
  {
   "cell_type": "code",
   "execution_count": 272,
   "metadata": {},
   "outputs": [],
   "source": [
    "all_msg.to_csv(\"data/pull.csv\")"
   ]
  },
  {
   "cell_type": "markdown",
   "metadata": {},
   "source": [
    "- lets use some text cleaning techniques\n",
    "- we will examine the frequencies of subject matter, sender, and snippet\n",
    "- we will do a little digging in the body"
   ]
  },
  {
   "cell_type": "code",
   "execution_count": 276,
   "metadata": {},
   "outputs": [
    {
     "data": {
      "text/plain": [
       "105"
      ]
     },
     "execution_count": 276,
     "metadata": {},
     "output_type": "execute_result"
    }
   ],
   "source": [
    "all_msg.subject.nunique()"
   ]
  },
  {
   "cell_type": "markdown",
   "metadata": {},
   "source": [
    "**There arent a lot of unique subjects in the messages.**"
   ]
  },
  {
   "cell_type": "code",
   "execution_count": 277,
   "metadata": {},
   "outputs": [
    {
     "data": {
      "text/plain": [
       "469"
      ]
     },
     "execution_count": 277,
     "metadata": {},
     "output_type": "execute_result"
    }
   ],
   "source": [
    "all_msg.snippet.nunique()"
   ]
  },
  {
   "cell_type": "markdown",
   "metadata": {},
   "source": [
    "**So there must be a lot of duplicates**"
   ]
  },
  {
   "cell_type": "code",
   "execution_count": 280,
   "metadata": {},
   "outputs": [],
   "source": [
    "# all_msg.drop_duplicates()\n",
    "## cant drop dupes"
   ]
  },
  {
   "cell_type": "code",
   "execution_count": 281,
   "metadata": {},
   "outputs": [
    {
     "data": {
      "text/plain": [
       "(500, 3)"
      ]
     },
     "execution_count": 281,
     "metadata": {},
     "output_type": "execute_result"
    }
   ],
   "source": [
    "mdf = pd.DataFrame(msg1, columns=['subject','body','sender'])\n",
    "mdf.shape\n"
   ]
  },
  {
   "cell_type": "code",
   "execution_count": 282,
   "metadata": {},
   "outputs": [
    {
     "data": {
      "text/html": [
       "<div>\n",
       "<style scoped>\n",
       "    .dataframe tbody tr th:only-of-type {\n",
       "        vertical-align: middle;\n",
       "    }\n",
       "\n",
       "    .dataframe tbody tr th {\n",
       "        vertical-align: top;\n",
       "    }\n",
       "\n",
       "    .dataframe thead th {\n",
       "        text-align: right;\n",
       "    }\n",
       "</style>\n",
       "<table border=\"1\" class=\"dataframe\">\n",
       "  <thead>\n",
       "    <tr style=\"text-align: right;\">\n",
       "      <th></th>\n",
       "      <th>subject</th>\n",
       "      <th>body</th>\n",
       "      <th>sender</th>\n",
       "    </tr>\n",
       "  </thead>\n",
       "  <tbody>\n",
       "    <tr>\n",
       "      <th>0</th>\n",
       "      <td>A step closer to protecting this special place</td>\n",
       "      <td>[[We're working towards securing permanent pro...</td>\n",
       "      <td>Environment America &lt;action@environmentamerica...</td>\n",
       "    </tr>\n",
       "    <tr>\n",
       "      <th>1</th>\n",
       "      <td>Join 7 Brigade members at \"Virtual Work Night:...</td>\n",
       "      <td>[[Code for Pittsburgh\\r\\ninvites you to keep c...</td>\n",
       "      <td>Code for Pittsburgh &lt;info@email.meetup.com&gt;</td>\n",
       "    </tr>\n",
       "    <tr>\n",
       "      <th>2</th>\n",
       "      <td>We're betting on Stacey Abrams</td>\n",
       "      <td>[[Brian Kemp has got to go.\\r\\n\\r\\nView this e...</td>\n",
       "      <td>\"Lori D’Orazio, ReBuild USA\" &lt;info@rebuildusa....</td>\n",
       "    </tr>\n",
       "    <tr>\n",
       "      <th>3</th>\n",
       "      <td>Clarence Thomas has zero business ruling on ca...</td>\n",
       "      <td>None</td>\n",
       "      <td>Patriotic Millionaires &lt;info@patrioticmilliona...</td>\n",
       "    </tr>\n",
       "    <tr>\n",
       "      <th>4</th>\n",
       "      <td>Military airstrike in Kachin State, Myanmar, k...</td>\n",
       "      <td>None</td>\n",
       "      <td>\"Simon Billenness, International Campaign for ...</td>\n",
       "    </tr>\n",
       "  </tbody>\n",
       "</table>\n",
       "</div>"
      ],
      "text/plain": [
       "                                             subject  \\\n",
       "0     A step closer to protecting this special place   \n",
       "1  Join 7 Brigade members at \"Virtual Work Night:...   \n",
       "2                     We're betting on Stacey Abrams   \n",
       "3  Clarence Thomas has zero business ruling on ca...   \n",
       "4  Military airstrike in Kachin State, Myanmar, k...   \n",
       "\n",
       "                                                body  \\\n",
       "0  [[We're working towards securing permanent pro...   \n",
       "1  [[Code for Pittsburgh\\r\\ninvites you to keep c...   \n",
       "2  [[Brian Kemp has got to go.\\r\\n\\r\\nView this e...   \n",
       "3                                               None   \n",
       "4                                               None   \n",
       "\n",
       "                                              sender  \n",
       "0  Environment America <action@environmentamerica...  \n",
       "1        Code for Pittsburgh <info@email.meetup.com>  \n",
       "2  \"Lori D’Orazio, ReBuild USA\" <info@rebuildusa....  \n",
       "3  Patriotic Millionaires <info@patrioticmilliona...  \n",
       "4  \"Simon Billenness, International Campaign for ...  "
      ]
     },
     "execution_count": 282,
     "metadata": {},
     "output_type": "execute_result"
    }
   ],
   "source": [
    "mdf.head()"
   ]
  },
  {
   "cell_type": "code",
   "execution_count": 285,
   "metadata": {},
   "outputs": [
    {
     "data": {
      "text/plain": [
       "135"
      ]
     },
     "execution_count": 285,
     "metadata": {},
     "output_type": "execute_result"
    }
   ],
   "source": [
    "mdf.subject.nunique()"
   ]
  },
  {
   "cell_type": "code",
   "execution_count": 283,
   "metadata": {},
   "outputs": [
    {
     "name": "stdout",
     "output_type": "stream",
     "text": [
      "Here are five races where your donation will have maximum impact:\n",
      "Here are five races where your donation will have maximum impact:\n",
      "Here are five races where your donation will have maximum impact:\n",
      "Here are five races where your donation will have maximum impact:\n",
      "Here are five races where your donation will have maximum impact:\n",
      "Here are five races where your donation will have maximum impact:\n",
      "Here are five races where your donation will have maximum impact:\n",
      "Here are five races where your donation will have maximum impact:\n",
      "Here are five races where your donation will have maximum impact:\n",
      "Here are five races where your donation will have maximum impact:\n",
      "Here are five races where your donation will have maximum impact:\n",
      "Here are five races where your donation will have maximum impact:\n",
      "Here are five races where your donation will have maximum impact:\n",
      "Here are five races where your donation will have maximum impact:\n",
      "Here are five races where your donation will have maximum impact:\n",
      "Here are five races where your donation will have maximum impact:\n",
      "Here are five races where your donation will have maximum impact:\n",
      "Here are five races where your donation will have maximum impact:\n",
      "Here are five races where your donation will have maximum impact:\n",
      "Here are five races where your donation will have maximum impact:\n",
      "Here are five races where your donation will have maximum impact:\n",
      "Here are five races where your donation will have maximum impact:\n",
      "Here are five races where your donation will have maximum impact:\n",
      "Here are five races where your donation will have maximum impact:\n",
      "Here are five races where your donation will have maximum impact:\n",
      "Here are five races where your donation will have maximum impact:\n",
      "Here are five races where your donation will have maximum impact:\n",
      "Here are five races where your donation will have maximum impact:\n",
      "Here are five races where your donation will have maximum impact:\n",
      "Here are five races where your donation will have maximum impact:\n",
      "Here are five races where your donation will have maximum impact:\n",
      "Here are five races where your donation will have maximum impact:\n",
      "Here are five races where your donation will have maximum impact:\n",
      "Here are five races where your donation will have maximum impact:\n",
      "Here are five races where your donation will have maximum impact:\n",
      "Here are five races where your donation will have maximum impact:\n",
      "Here are five races where your donation will have maximum impact:\n",
      "Here are five races where your donation will have maximum impact:\n",
      "Here are five races where your donation will have maximum impact:\n",
      "Here are five races where your donation will have maximum impact:\n",
      "Here are five races where your donation will have maximum impact:\n",
      "Here are five races where your donation will have maximum impact:\n",
      "Here are five races where your donation will have maximum impact:\n",
      "Here are five races where your donation will have maximum impact:\n",
      "Here are five races where your donation will have maximum impact:\n",
      "Here are five races where your donation will have maximum impact:\n",
      "Here are five races where your donation will have maximum impact:\n",
      "Here are five races where your donation will have maximum impact:\n",
      "Here are five races where your donation will have maximum impact:\n",
      "Here are five races where your donation will have maximum impact:\n",
      "Here are five races where your donation will have maximum impact:\n",
      "Here are five races where your donation will have maximum impact:\n",
      "Here are five races where your donation will have maximum impact:\n",
      "Here are five races where your donation will have maximum impact:\n",
      "Here are five races where your donation will have maximum impact:\n",
      "Here are five races where your donation will have maximum impact:\n",
      "Here are five races where your donation will have maximum impact:\n",
      "Here are five races where your donation will have maximum impact:\n",
      "Here are five races where your donation will have maximum impact:\n",
      "Here are five races where your donation will have maximum impact:\n",
      "Here are five races where your donation will have maximum impact:\n",
      "Here are five races where your donation will have maximum impact:\n",
      "Here are five races where your donation will have maximum impact:\n",
      "Here are five races where your donation will have maximum impact:\n",
      "Here are five races where your donation will have maximum impact:\n",
      "Here are five races where your donation will have maximum impact:\n",
      "Here are five races where your donation will have maximum impact:\n"
     ]
    }
   ],
   "source": [
    "for item in mdf.subject:\n",
    "    if 'donat' in item.lower():\n",
    "        print(item)"
   ]
  },
  {
   "cell_type": "code",
   "execution_count": null,
   "metadata": {},
   "outputs": [],
   "source": []
  },
  {
   "cell_type": "markdown",
   "metadata": {},
   "source": [
    "- https://stackoverflow.com/questions/55144261/python-how-to-get-the-subject-of-an-email-from-gmail-api\n",
    "- https://stackoverflow.com/questions/43269704/gmail-api-getting-all-gmail-inbox-messages-limits-to-500\n",
    "- https://www.geeksforgeeks.org/how-to-read-emails-from-gmail-using-gmail-api-in-python/\n",
    "- https://stackoverflow.com/questions/41761245/gmail-api-pagination-use-of-nextpagetoken\n",
    "- https://medium.com/nat-personal-relationship-manager/full-gmail-api-guide-how-to-retrieve-email-metadata-to-use-it-in-your-app-511c77017326"
   ]
  },
  {
   "cell_type": "code",
   "execution_count": 288,
   "metadata": {},
   "outputs": [],
   "source": [
    "import emaila\n",
    "import base64\n",
    "\n",
    "messageraw = service.users().messages().get(\n",
    "    userId=\"me\", \n",
    "    id=msg[\"id\"], \n",
    "    format=\"raw\", \n",
    "    metadataHeaders=None\n",
    ").execute()\n",
    "\n",
    "email_message = email.message_from_bytes(\n",
    "    base64.urlsafe_b64decode(messageraw['raw'])\n",
    ")"
   ]
  },
  {
   "cell_type": "code",
   "execution_count": 298,
   "metadata": {},
   "outputs": [
    {
     "data": {
      "text/plain": [
       "'=?UTF-8?B?V2hhdOKAmXMgeW91ciBjb21wdXRlcuKAmXM=?= favorite metric? |\\r\\n Cassie Kozyrkov in Towards Data Science'"
      ]
     },
     "execution_count": 298,
     "metadata": {},
     "output_type": "execute_result"
    }
   ],
   "source": [
    "email_message['subject']"
   ]
  },
  {
   "cell_type": "code",
   "execution_count": 303,
   "metadata": {},
   "outputs": [
    {
     "data": {
      "text/plain": [
       "[('Delivered-To', 'wild.bill.schill@gmail.com'),\n",
       " ('Received',\n",
       "  'by 2002:a05:6638:4710:0:0:0:0 with SMTP id cs16csp2544588jab;\\r\\n        Mon, 17 Oct 2022 04:40:01 -0700 (PDT)'),\n",
       " ('X-Google-Smtp-Source',\n",
       "  'AMsMyM7zzL4obmQgoKsHsQeZeBvLNQKxele8AfZ7Yczph34NhYphyDqhLMZIl3YCT72Dbn78H8lH'),\n",
       " ('X-Received',\n",
       "  'by 2002:a05:620a:461e:b0:6ee:e645:662d with SMTP id br30-20020a05620a461e00b006eee645662dmr2412708qkb.631.1666006800822;\\r\\n        Mon, 17 Oct 2022 04:40:00 -0700 (PDT)'),\n",
       " ('ARC-Seal',\n",
       "  'i=1; a=rsa-sha256; t=1666006800; cv=none;\\r\\n        d=google.com; s=arc-20160816;\\r\\n        b=P0QbkFF2iVEx8s7PFnLyDvXhaFnJSKG14Fisruw+EFJQwA3EqDjZscFRwHDhcVtIQq\\r\\n         GwxqPsI+KFbfxsFbPy5He0K4HOdVG8SuN98G/32PwmdZBR9RNL04HslkB5ozHklHpLir\\r\\n         BYjzRFdAumLffSPbHz8g4RcB9C4FdLHfq9pOyrHpDPlaL+k4k/wNQvDVEqFT8W7fo3db\\r\\n         CCCgczimOYlQ2MU3v19jTokKGyiLu64P+s/GGEHu8bGE3oETuBYl6T7jwftUUN3GxnVl\\r\\n         xoBbfMAKLeLKDKgqfvAh7G4qg7Gh20O7D0pAsoY3YEwBQwbpsTlLjKVAkZfEll3qlyJ7\\r\\n         3sSg=='),\n",
       " ('ARC-Message-Signature',\n",
       "  'i=1; a=rsa-sha256; c=relaxed/relaxed; d=google.com; s=arc-20160816;\\r\\n        h=to:list-unsubscribe:reply-to:subject:message-id:mime-version:from\\r\\n         :date:dkim-signature:dkim-signature;\\r\\n        bh=tmu+0hd4MQsyGQBefqLO6ToHQI+YGpkW1kvOwww329A=;\\r\\n        b=fnx4+X+8DrJBoelkRit5/HEr3drSFLcOX8JzGNmQ2+Wi6rTsfH7OJIyErdDCqoEV/U\\r\\n         OMHzBBiLPoiR9/bjqCw7Jv0H39gwPhi/yWOsLmsN9eUtFsf4fS66ZIsAA6JqKEq/q1ae\\r\\n         sFZdxphNf2LrtAncu1gLDzZQynKa1+xR2+d+USeA2Z9Au2Tn1NSUSvOdygKIxkZqCuOP\\r\\n         IK7K4JzuW+Y4JTxB6JMMWA69PbKl1JR1tIayXKha+uJD9GXY1vX/mhyhsHwhmqPshH8E\\r\\n         ues+pWe8XjXdn3hnMrUKVw3up1ryqt1bm7Hgkk1Bi4EzsPkFvi+cR0TWhrkwlRHETfuV\\r\\n         fRbg=='),\n",
       " ('ARC-Authentication-Results',\n",
       "  'i=1; mx.google.com;\\r\\n       dkim=pass header.i=@medium.com header.s=m1 header.b=KSUgy9UQ;\\r\\n       dkim=pass header.i=@sendgrid.info header.s=smtpapi header.b=euM7lI5J;\\r\\n       spf=pass (google.com: domain of bounces+1823144-8caa-wild.bill.schill=gmail.com@email.medium.com designates 167.89.47.62 as permitted sender) smtp.mailfrom=\"bounces+1823144-8caa-wild.bill.schill=gmail.com@email.medium.com\";\\r\\n       dmarc=pass (p=REJECT sp=REJECT dis=NONE) header.from=medium.com'),\n",
       " ('Return-Path',\n",
       "  '<bounces+1823144-8caa-wild.bill.schill=gmail.com@email.medium.com>'),\n",
       " ('Received',\n",
       "  'from o2.email.medium.com (o2.email.medium.com. [167.89.47.62])\\r\\n        by mx.google.com with ESMTPS id ff24-20020a05622a4d9800b0039ccd4c9a48si5766544qtb.778.2022.10.17.04.40.00\\r\\n        for <wild.bill.schill@gmail.com>\\r\\n        (version=TLS1_3 cipher=TLS_AES_128_GCM_SHA256 bits=128/128);\\r\\n        Mon, 17 Oct 2022 04:40:00 -0700 (PDT)'),\n",
       " ('Received-SPF',\n",
       "  'pass (google.com: domain of bounces+1823144-8caa-wild.bill.schill=gmail.com@email.medium.com designates 167.89.47.62 as permitted sender) client-ip=167.89.47.62;'),\n",
       " ('Authentication-Results',\n",
       "  'mx.google.com;\\r\\n       dkim=pass header.i=@medium.com header.s=m1 header.b=KSUgy9UQ;\\r\\n       dkim=pass header.i=@sendgrid.info header.s=smtpapi header.b=euM7lI5J;\\r\\n       spf=pass (google.com: domain of bounces+1823144-8caa-wild.bill.schill=gmail.com@email.medium.com designates 167.89.47.62 as permitted sender) smtp.mailfrom=\"bounces+1823144-8caa-wild.bill.schill=gmail.com@email.medium.com\";\\r\\n       dmarc=pass (p=REJECT sp=REJECT dis=NONE) header.from=medium.com'),\n",
       " ('DKIM-Signature',\n",
       "  'v=1; a=rsa-sha256; c=relaxed/relaxed; d=medium.com;\\r\\n\\th=content-type:from:mime-version:subject:reply-to:list-unsubscribe:\\r\\n\\tx-feedback-id:to:cc;\\r\\n\\ts=m1; bh=tmu+0hd4MQsyGQBefqLO6ToHQI+YGpkW1kvOwww329A=;\\r\\n\\tb=KSUgy9UQNzi/o/Lq81wNjWqFwGSgpTZgUO78C8lWcFrAf9RPe24REjS2SkAwJ4dzgWr/\\r\\n\\taeEPAOBRW8tpnuZMKpYj5aay2EgO/bKCMZL7DH2yHJ8qEHyvrYfdh+rEdtfGe6bemW0Vmm\\r\\n\\tADBaIYvLsTR1xBk3JLs3GmgMbvOaldmJU='),\n",
       " ('DKIM-Signature',\n",
       "  'v=1; a=rsa-sha256; c=relaxed/relaxed; d=sendgrid.info;\\r\\n\\th=content-type:from:mime-version:subject:reply-to:list-unsubscribe:\\r\\n\\tx-feedback-id:to:cc;\\r\\n\\ts=smtpapi; bh=tmu+0hd4MQsyGQBefqLO6ToHQI+YGpkW1kvOwww329A=;\\r\\n\\tb=euM7lI5Ja4PiH+JrWm2mFnQqpZCPtVq+UrQsP5VOn6GwvI6V7M6YcNohqpF7x4vSyLJF\\r\\n\\tP2feIuyYeZfSXRaT/Vm140aXEHndWDjaFRg1qrSHJdhBecVAo+1Z8XA6KEcZykQn7E1clR\\r\\n\\tsLMY51iFzKD1uyUJIQLGWLsHrgdrRAtcE='),\n",
       " ('Received',\n",
       "  'by filterdrecv-5c474bb5fc-zbsm9 with SMTP id filterdrecv-5c474bb5fc-zbsm9-1-634CFE5D-F\\r\\n        2022-10-17 07:03:57.110884932 +0000 UTC m=+1675155.369224238'),\n",
       " ('Received',\n",
       "  'from MTgyMzE0NA (unknown)\\r\\n\\tby geopod-ismtpd-2-0 (SG) with HTTP\\r\\n\\tid EFnxk_fYSVK3OpiIUdT85g\\r\\n\\tMon, 17 Oct 2022 07:03:57.071 +0000 (UTC)'),\n",
       " ('Content-Type',\n",
       "  'multipart/alternative; boundary=1fcdf3822db4657ed921abcca2551637786e8c7ce0b7b5071ca64fb15677'),\n",
       " ('Date', 'Mon, 17 Oct 2022 11:40:00 +0000 (UTC)'),\n",
       " ('From', 'Medium Daily Digest <noreply@medium.com>'),\n",
       " ('Mime-Version', '1.0'),\n",
       " ('Message-ID', '<EFnxk_fYSVK3OpiIUdT85g@geopod-ismtpd-2-0>'),\n",
       " ('Subject',\n",
       "  '=?UTF-8?B?V2hhdOKAmXMgeW91ciBjb21wdXRlcuKAmXM=?= favorite metric? |\\r\\n Cassie Kozyrkov in Towards Data Science'),\n",
       " ('Reply-To', 'noreply@medium.com'),\n",
       " ('List-Unsubscribe',\n",
       "  '\\r\\n =?us-ascii?Q?=3Chttps=3A=2F=2Fmedium=2Ecom=2Fme=2Femail-settings=2F6838c713587b=2Fa32566e74b9?=\\r\\n =?us-ascii?Q?e=3Fsource=3Demail-6838c713587b-16659902350?=\\r\\n =?us-ascii?Q?80-digest=2Ereader-----------------------?=\\r\\n =?us-ascii?Q?--817a9b54=5F1304=5F4c4c=5F9927=5Fa5d81a6d5ccf&?=\\r\\n =?us-ascii?Q?type=3Dsocial=3E?='),\n",
       " ('X-Feedback-ID', '1823144:SG'),\n",
       " ('X-SG-EID',\n",
       "  '\\r\\n =?us-ascii?Q?EycFin8l6jglS6Ld5Ew7zNa2Eu2nnb7TWjVmXXZRSLZ85bUUhKP=2FZL++S+x4eO?=\\r\\n =?us-ascii?Q?D0nq2F8xRXKBd5eYmzkI+Qgk1btydFQ5U2UO4bK?=\\r\\n =?us-ascii?Q?9QHCgrdQmRC4ZiaQPkd9ltJoly8SfXL9HrqeMYY?=\\r\\n =?us-ascii?Q?7hYucKL1jQE6Rn+ujcbyHX35tIsCMaWqKENS4+t?=\\r\\n =?us-ascii?Q?4TeFaODjv=2FPbUoFMQJ7Zoz1BDuPUVF8sHhofsg5?=\\r\\n =?us-ascii?Q?0jizOEzC0wINAPEMLB+bYpeFSzwldJhuxiXwK1C?=\\r\\n =?us-ascii?Q?rlXOg2IndSKepiiFNuk+g=3D=3D?='),\n",
       " ('X-SG-ID',\n",
       "  '\\r\\n =?us-ascii?Q?N2C25iY2uzGMFz6rgvQsb2Jb2lSifPkScYJRz07RegtCc4Zf6q9mRgH+DiPxUW?=\\r\\n =?us-ascii?Q?P7pV7eE=2FJuoyEOTpx6roSNioJehmWW8soCou3oS?=\\r\\n =?us-ascii?Q?bPxHCjAbamDuFSIULbfgbeNXKsRbGwb8bFUwCrc?=\\r\\n =?us-ascii?Q?yHz7prMliNrTk+SKj2oy2NKsXNAiYjD9SL2EF1g?=\\r\\n =?us-ascii?Q?poPxDj9TkzofPBBLwSxLIl0dJBqx+8Z3+rw=3D=3D?='),\n",
       " ('To', 'wild.bill.schill@gmail.com'),\n",
       " ('X-Entity-ID', 'cpc5D047Jdd+RNni7tePhw==')]"
      ]
     },
     "execution_count": 303,
     "metadata": {},
     "output_type": "execute_result"
    }
   ],
   "source": [
    "email_message.items()"
   ]
  },
  {
   "cell_type": "code",
   "execution_count": null,
   "metadata": {},
   "outputs": [],
   "source": []
  },
  {
   "cell_type": "code",
   "execution_count": null,
   "metadata": {},
   "outputs": [],
   "source": []
  },
  {
   "cell_type": "code",
   "execution_count": null,
   "metadata": {},
   "outputs": [],
   "source": []
  },
  {
   "cell_type": "code",
   "execution_count": null,
   "metadata": {},
   "outputs": [],
   "source": []
  },
  {
   "cell_type": "code",
   "execution_count": null,
   "metadata": {},
   "outputs": [],
   "source": []
  },
  {
   "cell_type": "markdown",
   "metadata": {},
   "source": [
    "### OLD CODE BELOW"
   ]
  },
  {
   "cell_type": "code",
   "execution_count": 115,
   "metadata": {},
   "outputs": [],
   "source": [
    "# msgs = []\n",
    "# for msg in messages:\n",
    "#     # Get the message from its id\n",
    "#     txt = service.users().messages().get(userId='me', id=msg['id']).execute()    \n",
    "#     payload = txt['payload']\n",
    "#     headers = payload['headers']\n",
    "\n",
    "#     # Look for Subject and Sender Email in the headers\n",
    "#     for d in headers:\n",
    "#         if d['name'] == 'Subject':\n",
    "#             subject = d['value']\n",
    "#         if d['name'] == 'From':\n",
    "#             sender = d['value']\n",
    "            \n",
    "#     try:\n",
    "#         parts = payload.get('parts')[0]\n",
    "#         data = parts['body']['data']\n",
    "#         data = data.replace(\"-\",\"+\").replace(\"_\",\"/\")\n",
    "#         decoded_data = base64.b64decode(data)\n",
    "\n",
    "#         soup = BeautifulSoup(decoded_data , \"lxml\")\n",
    "#         body = soup.body()\n",
    "#     except:\n",
    "#         body = None\n",
    "            \n",
    "#     msgs.append([subject, body])"
   ]
  },
  {
   "cell_type": "code",
   "execution_count": null,
   "metadata": {},
   "outputs": [],
   "source": []
  }
 ],
 "metadata": {
  "kernelspec": {
   "display_name": "Python 3",
   "language": "python",
   "name": "python3"
  },
  "language_info": {
   "codemirror_mode": {
    "name": "ipython",
    "version": 3
   },
   "file_extension": ".py",
   "mimetype": "text/x-python",
   "name": "python",
   "nbconvert_exporter": "python",
   "pygments_lexer": "ipython3",
   "version": "3.7.6"
  }
 },
 "nbformat": 4,
 "nbformat_minor": 4
}
